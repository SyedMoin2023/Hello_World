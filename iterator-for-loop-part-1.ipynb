{
 "cells": [
  {
   "cell_type": "markdown",
   "metadata": {},
   "source": [
    "# -------------------------Iterator loops (FOR )---------------------------------"
   ]
  },
  {
   "cell_type": "code",
   "execution_count": 21,
   "metadata": {},
   "outputs": [],
   "source": [
    "l=[1,3,2,5,4,6,7,545,8,4,4,3,7,4,8,4,6,4,6,34,7,32,6,3,9,21,45,32,21,34,21,19,34,6,7,4,2,5,78,5]"
   ]
  },
  {
   "cell_type": "code",
   "execution_count": null,
   "metadata": {},
   "outputs": [],
   "source": [
    "elif 21<=i<=40\n",
    "\n",
    "\n"
   ]
  },
  {
   "cell_type": "code",
   "execution_count": 22,
   "metadata": {},
   "outputs": [
    {
     "name": "stdout",
     "output_type": "stream",
     "text": [
      "[1, 3, 2, 5, 4, 6, 7, 8, 4, 4, 3, 7, 4, 8, 4, 6, 4, 6, 7, 6, 3, 9, 19, 6, 7, 4, 2, 5, 5] [545, 34, 32, 21, 45, 32, 21, 34, 21, 34, 78]\n"
     ]
    }
   ],
   "source": [
    "less_bucket=[]\n",
    "greater_bucket=[]\n",
    "for i in l:\n",
    "    if i<=20:\n",
    "        less_bucket.append(i)\n",
    "    else:\n",
    "        greater_bucket.append(i)\n",
    "print(less_bucket,greater_bucket)\n"
   ]
  },
  {
   "cell_type": "code",
   "execution_count": 20,
   "metadata": {},
   "outputs": [
    {
     "name": "stdout",
     "output_type": "stream",
     "text": [
      "[1, 3, 5, 7, 545, 3, 7, 7, 3, 9, 21, 45, 21, 21, 19, 7, 5, 5] [2, 4, 6, 8, 4, 4, 4, 8, 4, 6, 4, 6, 34, 32, 6, 32, 34, 34, 6, 4, 2, 78]\n"
     ]
    }
   ],
   "source": [
    "even_bucket=[]\n",
    "odd_bucket=[]\n",
    "for i in l:\n",
    "    if i%2==0:\n",
    "        even_bucket.append(i)\n",
    "        \n",
    "    else:\n",
    "        odd_bucket.append(i)\n"
   ]
  },
  {
   "cell_type": "code",
   "execution_count": 18,
   "metadata": {},
   "outputs": [
    {
     "data": {
      "text/plain": [
       "[2, 4, 6, 8, 4, 4, 4, 8, 4, 6, 4, 6, 34, 32, 6, 32, 34, 34, 6, 4, 2, 78]"
      ]
     },
     "execution_count": 18,
     "metadata": {},
     "output_type": "execute_result"
    }
   ],
   "source": [
    "even_bucket"
   ]
  },
  {
   "cell_type": "code",
   "execution_count": 19,
   "metadata": {},
   "outputs": [
    {
     "data": {
      "text/plain": [
       "[1, 3, 5, 7, 545, 3, 7, 7, 3, 9, 21, 45, 21, 21, 19, 7, 5, 5]"
      ]
     },
     "execution_count": 19,
     "metadata": {},
     "output_type": "execute_result"
    }
   ],
   "source": [
    "odd_bucket"
   ]
  },
  {
   "cell_type": "code",
   "execution_count": 3,
   "metadata": {},
   "outputs": [],
   "source": [
    "a=[1,4,2,6,7,4,5,3]\n",
    "even=[]\n",
    "odd=[]\n",
    "for i in a:\n",
    "    if i%2==0:\n",
    "        even.append(i)\n",
    "    else:\n",
    "        odd.append(i)\n",
    "        "
   ]
  },
  {
   "cell_type": "code",
   "execution_count": 4,
   "metadata": {},
   "outputs": [
    {
     "data": {
      "text/plain": [
       "[4, 2, 6, 4]"
      ]
     },
     "execution_count": 4,
     "metadata": {},
     "output_type": "execute_result"
    }
   ],
   "source": [
    "even"
   ]
  },
  {
   "cell_type": "code",
   "execution_count": 5,
   "metadata": {},
   "outputs": [
    {
     "data": {
      "text/plain": [
       "[1, 7, 5, 3]"
      ]
     },
     "execution_count": 5,
     "metadata": {},
     "output_type": "execute_result"
    }
   ],
   "source": [
    "odd"
   ]
  },
  {
   "cell_type": "code",
   "execution_count": 6,
   "metadata": {},
   "outputs": [
    {
     "name": "stdout",
     "output_type": "stream",
     "text": [
      "morning 1\n",
      "morning 5\n",
      "good 10\n",
      "good 42\n",
      "morning 67\n",
      "morning 45\n",
      "morning 23\n",
      "good 40\n",
      "morning 565\n",
      "good 6\n",
      "morning 7\n",
      "morning 3\n",
      "morning 5\n",
      "good 6\n",
      "morning 7\n",
      "good 4\n",
      "good 4\n",
      "morning 7\n",
      "morning 7\n",
      "good 4\n",
      "good 4\n"
     ]
    }
   ],
   "source": [
    "\n",
    "a=[1,5,10,42,67,45,23,40,565,6,7,3,5,6,7,4,4,7,7,4,4]\n",
    "\n",
    "for i in a:\n",
    "    if i%2==0:\n",
    "        print(\"good\",i)\n",
    "    else:\n",
    "        print(\"morning\",i)"
   ]
  },
  {
   "cell_type": "code",
   "execution_count": 7,
   "metadata": {},
   "outputs": [
    {
     "name": "stdout",
     "output_type": "stream",
     "text": [
      "h\n",
      "hello\n",
      "e\n",
      "l\n",
      "l\n",
      "o\n",
      "1\n"
     ]
    }
   ],
   "source": [
    "word=\"hello1\" \n",
    "\n",
    "for w in word:\n",
    "    if w==\"e\":\n",
    "        print(\"hello\")\n",
    "    print(w)\n"
   ]
  },
  {
   "cell_type": "code",
   "execution_count": 10,
   "metadata": {},
   "outputs": [
    {
     "name": "stdout",
     "output_type": "stream",
     "text": [
      "a\n",
      "hello\n",
      "r\n",
      "hello\n",
      "good one\n",
      "p\n",
      "hello\n",
      "i\n",
      "hello\n",
      "t\n",
      "hello\n"
     ]
    }
   ],
   "source": [
    "name=\"arpit\"    \n",
    "\n",
    "    \n",
    "for i in name:\n",
    "    if i==\"p\":\n",
    "        print(\"good one\")\n",
    "    print(i)\n",
    "    print(\"hello\")"
   ]
  },
  {
   "cell_type": "code",
   "execution_count": 13,
   "metadata": {},
   "outputs": [
    {
     "name": "stdout",
     "output_type": "stream",
     "text": [
      "12 25\n"
     ]
    }
   ],
   "source": [
    "numbers=[1,3,2,5,4,6,7,9]\n",
    "\n",
    "even=0\n",
    "odd=0\n",
    "\n",
    "for i in numbers:\n",
    "    if i%2==0:\n",
    "        even=even+i\n",
    "    else:\n",
    "        odd=odd+i\n",
    "\n",
    "print(even,odd)\n",
    "\n",
    "\n",
    "\n"
   ]
  },
  {
   "cell_type": "markdown",
   "metadata": {},
   "source": [
    "# ----------------------------STORE VALUE LOOP-------------------------"
   ]
  },
  {
   "cell_type": "code",
   "execution_count": 23,
   "metadata": {},
   "outputs": [
    {
     "name": "stdout",
     "output_type": "stream",
     "text": [
      "1 1\n",
      "2 3\n",
      "3 6\n",
      "1 7\n",
      "5 12\n",
      "7 19\n",
      "4 23\n",
      "11 34\n",
      "33 67\n",
      "21 88\n",
      "2 90\n",
      "4 94\n",
      "6 100\n",
      "8 108\n",
      "108\n"
     ]
    }
   ],
   "source": [
    "l=[1,2,3,1,5,7,4,11,33,21,2,4,6,8]\n",
    "\n",
    "sums=0\n",
    "for i in l:\n",
    "    sums=sums+i\n",
    "    \n",
    "print(sums)"
   ]
  },
  {
   "cell_type": "markdown",
   "metadata": {},
   "source": [
    "# ----------------------------RANGE FUNCTION--------------------"
   ]
  },
  {
   "cell_type": "code",
   "execution_count": null,
   "metadata": {},
   "outputs": [],
   "source": [
    "range(start,stop(N-1),jump or direction)"
   ]
  },
  {
   "cell_type": "code",
   "execution_count": 23,
   "metadata": {},
   "outputs": [
    {
     "name": "stdout",
     "output_type": "stream",
     "text": [
      "[2, 4, 6, 8, 10, 12, 14, 16, 18] [3, 5, 7, 9, 11, 13, 15, 17, 19]\n"
     ]
    }
   ],
   "source": [
    "even=[]\n",
    "odd=[]\n",
    "for i in range(2,20):\n",
    "    if i%2==0:\n",
    "        even.append(i)\n",
    "    else:\n",
    "        odd.append(i)\n",
    "print(even,odd)"
   ]
  },
  {
   "cell_type": "code",
   "execution_count": 25,
   "metadata": {},
   "outputs": [
    {
     "name": "stdout",
     "output_type": "stream",
     "text": [
      "44 145\n"
     ]
    }
   ],
   "source": [
    "less_than_10=0\n",
    "greater_than_10=0\n",
    "\n",
    "for i in range(2,20):\n",
    "    if i<10:\n",
    "        less_than_10=less_than_10+i\n",
    "    else:\n",
    "        greater_than_10=greater_than_10+i\n",
    "\n",
    "print(less_than_10,greater_than_10)"
   ]
  },
  {
   "cell_type": "code",
   "execution_count": 26,
   "metadata": {},
   "outputs": [
    {
     "name": "stdout",
     "output_type": "stream",
     "text": [
      "0\n",
      "15\n",
      "30\n",
      "45\n",
      "60\n",
      "75\n",
      "90\n"
     ]
    }
   ],
   "source": [
    "for i in range(100):\n",
    "    if i%3==0 and i%5==0:\n",
    "        print(i)"
   ]
  },
  {
   "cell_type": "code",
   "execution_count": null,
   "metadata": {},
   "outputs": [],
   "source": []
  },
  {
   "cell_type": "code",
   "execution_count": 27,
   "metadata": {},
   "outputs": [
    {
     "data": {
      "text/plain": [
       "[0, 2, 4, 6, 8, 10, 12, 14, 16, 18]"
      ]
     },
     "execution_count": 27,
     "metadata": {},
     "output_type": "execute_result"
    }
   ],
   "source": [
    "\n",
    "list(range(0,20,2))"
   ]
  },
  {
   "cell_type": "code",
   "execution_count": 30,
   "metadata": {},
   "outputs": [
    {
     "data": {
      "text/plain": [
       "[20, 19, 18, 17, 16, 15, 14, 13, 12, 11, 10, 9, 8, 7, 6, 5, 4, 3, 2, 1, 0]"
      ]
     },
     "execution_count": 30,
     "metadata": {},
     "output_type": "execute_result"
    }
   ],
   "source": [
    "list(range(20,-1,-1))"
   ]
  },
  {
   "cell_type": "markdown",
   "metadata": {},
   "source": [
    "# --------------------INPUT FUNCTION-------------"
   ]
  },
  {
   "cell_type": "code",
   "execution_count": 41,
   "metadata": {},
   "outputs": [
    {
     "name": "stdout",
     "output_type": "stream",
     "text": [
      "enter ur number23\n",
      "enter ur number12\n",
      "enter ur number40\n",
      "enter ur number18\n",
      "enter ur number40\n"
     ]
    }
   ],
   "source": [
    "values=[]\n",
    "for i in range(5):\n",
    "    a=int(input(\"enter ur number\"))\n",
    "    values.append(a)"
   ]
  },
  {
   "cell_type": "code",
   "execution_count": 43,
   "metadata": {},
   "outputs": [
    {
     "name": "stdout",
     "output_type": "stream",
     "text": [
      "enter ur countryindia\n",
      "enter ur countryusa\n",
      "enter ur countrygermany\n",
      "enter ur countryaustralia\n",
      "enter ur countrycanada\n"
     ]
    }
   ],
   "source": [
    "country_names=[]\n",
    "\n",
    "for i in range(5):\n",
    "    a=input(\"enter ur country\")\n",
    "    country_names.append(a)\n",
    "\n",
    "\n",
    "\n"
   ]
  },
  {
   "cell_type": "code",
   "execution_count": 44,
   "metadata": {},
   "outputs": [
    {
     "data": {
      "text/plain": [
       "['india', 'usa', 'germany', 'australia', 'canada']"
      ]
     },
     "execution_count": 44,
     "metadata": {},
     "output_type": "execute_result"
    }
   ],
   "source": [
    "country_names"
   ]
  }
 ],
 "metadata": {
  "kernelspec": {
   "display_name": "Python 3",
   "language": "python",
   "name": "python3"
  },
  "language_info": {
   "codemirror_mode": {
    "name": "ipython",
    "version": 3
   },
   "file_extension": ".py",
   "mimetype": "text/x-python",
   "name": "python",
   "nbconvert_exporter": "python",
   "pygments_lexer": "ipython3",
   "version": "3.7.6"
  }
 },
 "nbformat": 4,
 "nbformat_minor": 4
}
